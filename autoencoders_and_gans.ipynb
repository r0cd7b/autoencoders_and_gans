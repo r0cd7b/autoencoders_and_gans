{
 "cells": [
  {
   "cell_type": "markdown",
   "id": "2a5e8e8d-af59-4d8b-8796-a19e24f2bdfc",
   "metadata": {},
   "source": [
    "# **오토인코더와 GAN**"
   ]
  },
  {
   "cell_type": "markdown",
   "id": "3ae628c3-c887-491d-9e98-cad1b009c03b",
   "metadata": {},
   "source": [
    "먼저 몇 개의 모듈을 임포트한다. 맷플롯립 그림을 저장하는 함수를 준비한다."
   ]
  },
  {
   "cell_type": "code",
   "execution_count": 1,
   "id": "1a86a540-5353-47c3-bca5-8849d7497c74",
   "metadata": {
    "scrolled": true
   },
   "outputs": [],
   "source": [
    "try:\n",
    "    IS_COLAB = True\n",
    "except Exception:\n",
    "    IS_COLAB = False\n",
    "import tensorflow as tf\n",
    "from tensorflow import keras\n",
    "\n",
    "if not tf.config.list_physical_devices('GPU'):\n",
    "    print('감지된 GPU가 없습니다. GPU가 없으면 LSTM과 CNN이 매우 느릴 수 있습니다.')\n",
    "    if IS_COLAB:\n",
    "        print('런타임 > 런타임 유형 변경 메뉴를 선택하고 하드웨어 가속기로 GPU를 고르세요.')\n",
    "# 공통 모듈 임포트\n",
    "import numpy as np\n",
    "import os\n",
    "# 깔끔한 그래프 출력을 위해\n",
    "import matplotlib.pyplot as plt\n",
    "import matplotlib as mpl\n",
    "\n",
    "mpl.rc('axes', labelsize=14)\n",
    "mpl.rc('xtick', labelsize=12)\n",
    "mpl.rc('ytick', labelsize=12)\n",
    "# 그림을 저장할 위치\n",
    "PROJECT_ROOT_DIR = '.'\n",
    "IMAGES_PATH = os.path.join(PROJECT_ROOT_DIR, 'images')\n",
    "os.makedirs(IMAGES_PATH, exist_ok=True)\n",
    "\n",
    "\n",
    "def save_fig(fig_id, tight_layout=True, fig_extension='png', resolution=300):\n",
    "    path = os.path.join(IMAGES_PATH, fig_id + '.' + fig_extension)\n",
    "    print('그림 저장 ' + fig_id)\n",
    "    if tight_layout:\n",
    "        plt.tight_layout()\n",
    "    plt.savefig(path, dpi=resolution, format=fig_extension)"
   ]
  },
  {
   "cell_type": "markdown",
   "id": "aebd7e14-d13d-4244-8ccf-155bf4db8358",
   "metadata": {},
   "source": [
    "28x28 흑백 이미지를 그리기 위한 유틸리티 함수:"
   ]
  },
  {
   "cell_type": "code",
   "execution_count": 2,
   "id": "4b9573d0-10a2-4785-8949-ee37a861119d",
   "metadata": {
    "scrolled": true
   },
   "outputs": [],
   "source": [
    "def plot_image(image):\n",
    "    plt.imshow(image, 'binary')\n",
    "    plt.axis('off')"
   ]
  },
  {
   "cell_type": "markdown",
   "id": "fc880c02-e71c-49b8-8bcf-878a3559d9fe",
   "metadata": {},
   "source": [
    "## 과소완전 선형 오토인코더로 PCA 수행하기"
   ]
  },
  {
   "cell_type": "markdown",
   "id": "92b14a32-24a6-4e1b-ab67-408f2d6563a2",
   "metadata": {},
   "source": [
    "3D 데이터셋을 만든다:"
   ]
  },
  {
   "cell_type": "code",
   "execution_count": 3,
   "id": "2a8e150f-1a0a-4998-8cd0-b6afaa002181",
   "metadata": {
    "scrolled": true,
    "tags": []
   },
   "outputs": [],
   "source": [
    "def generate_3d_data(m, w1=0.1, w2=0.3, noise=0.1):\n",
    "    angles = np.random.rand(m) * 3 * np.pi / 2 - 0.5\n",
    "    data = np.empty((m, 3))\n",
    "    data[:, 0] = np.cos(angles) + np.sin(angles) / 2 + noise * np.random.randn(m) / 2\n",
    "    data[:, 1] = np.sin(angles) * 0.7 + noise * np.random.randn(m) / 2\n",
    "    data[:, 2] = data[:, 0] * w1 + data[:, 1] * w2 + noise * np.random.randn(m)\n",
    "    return data\n",
    "\n",
    "\n",
    "X_train = generate_3d_data(60)\n",
    "X_train = X_train - X_train.mean(0)"
   ]
  },
  {
   "cell_type": "markdown",
   "id": "d887a905-b92a-4727-ae36-ef511c41527f",
   "metadata": {},
   "source": [
    "오토인코더를 만든다."
   ]
  },
  {
   "cell_type": "code",
   "execution_count": 4,
   "id": "2443d1dc-1d0b-42e4-8ebd-c93a23718f3b",
   "metadata": {
    "scrolled": true
   },
   "outputs": [],
   "source": [
    "encoder = keras.Sequential([keras.layers.Dense(2, input_shape=[3])])\n",
    "decoder = keras.Sequential([keras.layers.Dense(3, input_shape=[2])])\n",
    "autoencoder = keras.Sequential([encoder, decoder])\n",
    "autoencoder.compile(keras.optimizers.experimental.SGD(1.5), 'mse')"
   ]
  },
  {
   "cell_type": "code",
   "execution_count": 5,
   "id": "475cb9c7-06b9-4a05-b431-fe0b3ee4c0cc",
   "metadata": {
    "scrolled": true
   },
   "outputs": [
    {
     "name": "stdout",
     "output_type": "stream",
     "text": [
      "Epoch 1/20\n",
      "2/2 [==============================] - 5s 6ms/step - loss: 0.3706\n",
      "Epoch 2/20\n",
      "2/2 [==============================] - 0s 6ms/step - loss: 0.0888\n",
      "Epoch 3/20\n",
      "2/2 [==============================] - 0s 6ms/step - loss: 0.0694\n",
      "Epoch 4/20\n",
      "2/2 [==============================] - 0s 6ms/step - loss: 0.1196\n",
      "Epoch 5/20\n",
      "2/2 [==============================] - 0s 7ms/step - loss: 0.0855\n",
      "Epoch 6/20\n",
      "2/2 [==============================] - 0s 5ms/step - loss: 0.0363\n",
      "Epoch 7/20\n",
      "2/2 [==============================] - 0s 6ms/step - loss: 0.0162\n",
      "Epoch 8/20\n",
      "2/2 [==============================] - 0s 6ms/step - loss: 0.0091\n",
      "Epoch 9/20\n",
      "2/2 [==============================] - 0s 8ms/step - loss: 0.0070\n",
      "Epoch 10/20\n",
      "2/2 [==============================] - 0s 8ms/step - loss: 0.0061\n",
      "Epoch 11/20\n",
      "2/2 [==============================] - 0s 6ms/step - loss: 0.0054\n",
      "Epoch 12/20\n",
      "2/2 [==============================] - 0s 6ms/step - loss: 0.0052\n",
      "Epoch 13/20\n",
      "2/2 [==============================] - 0s 8ms/step - loss: 0.0050\n",
      "Epoch 14/20\n",
      "2/2 [==============================] - 0s 7ms/step - loss: 0.0058\n",
      "Epoch 15/20\n",
      "2/2 [==============================] - 0s 7ms/step - loss: 0.0056\n",
      "Epoch 16/20\n",
      "2/2 [==============================] - 0s 8ms/step - loss: 0.0048\n",
      "Epoch 17/20\n",
      "2/2 [==============================] - 0s 6ms/step - loss: 0.0049\n",
      "Epoch 18/20\n",
      "2/2 [==============================] - 0s 6ms/step - loss: 0.0047\n",
      "Epoch 19/20\n",
      "2/2 [==============================] - 0s 7ms/step - loss: 0.0045\n",
      "Epoch 20/20\n",
      "2/2 [==============================] - 0s 8ms/step - loss: 0.0045\n"
     ]
    }
   ],
   "source": [
    "history = autoencoder.fit(X_train, X_train, epochs=20)"
   ]
  },
  {
   "cell_type": "code",
   "execution_count": 6,
   "id": "99e3042b-2c3f-400f-a28a-a32412980129",
   "metadata": {
    "scrolled": true,
    "tags": []
   },
   "outputs": [
    {
     "name": "stdout",
     "output_type": "stream",
     "text": [
      "2/2 [==============================] - 0s 3ms/step\n"
     ]
    }
   ],
   "source": [
    "codings = encoder.predict(X_train)"
   ]
  },
  {
   "cell_type": "code",
   "execution_count": 7,
   "id": "3cbd8529-a3e5-44c6-830e-23788669ec6d",
   "metadata": {
    "scrolled": true,
    "tags": []
   },
   "outputs": [
    {
     "name": "stdout",
     "output_type": "stream",
     "text": [
      "그림 저장 linear_autoencoder_pca_plot\n"
     ]
    },
    {
     "data": {
      "image/png": "[encoded data removed]",
      "text/plain": [
       "<Figure size 400x300 with 1 Axes>"
      ]
     },
     "metadata": {},
     "output_type": "display_data"
    }
   ],
   "source": [
    "fig = plt.figure(figsize=(4, 3))\n",
    "plt.plot(codings[:, 0], codings[:, 1], 'b.')\n",
    "plt.xlabel('$z_1$', fontsize=18)\n",
    "plt.ylabel('$z_2$', fontsize=18, rotation=0)\n",
    "plt.grid(True)\n",
    "save_fig('linear_autoencoder_pca_plot')\n",
    "plt.show()"
   ]
  },
  {
   "cell_type": "markdown",
   "id": "1234d3f1-3605-44dc-9cc2-5d756046e7a7",
   "metadata": {
    "tags": []
   },
   "source": [
    "## 적층 오토인코더"
   ]
  },
  {
   "cell_type": "markdown",
   "id": "37b989aa-cd76-475f-8ef0-324ec4e0d27a",
   "metadata": {},
   "source": [
    "### 케라스를 사용하여 적층 오토인코더 구현하기"
   ]
  },
  {
   "cell_type": "markdown",
   "id": "a1c624ce-df90-43bb-98eb-266880941327",
   "metadata": {},
   "source": [
    "MNIST 데이터셋을 사용한다:"
   ]
  },
  {
   "cell_type": "code",
   "execution_count": 8,
   "id": "fdf3ff50-6bd6-4c49-b61c-95c03f4f855a",
   "metadata": {
    "scrolled": true,
    "tags": []
   },
   "outputs": [],
   "source": [
    "(X_train_full, y_train_full), (X_test, y_test) = keras.datasets.fashion_mnist.load_data()\n",
    "X_train_full = X_train_full.astype(np.float32) / 255\n",
    "X_test = X_test.astype(np.float32) / 255\n",
    "X_train, X_valid = X_train_full[:-5000], X_train_full[-5000:]\n",
    "y_train, y_valid = y_train_full[:-5000], y_train_full[-5000:]"
   ]
  },
  {
   "cell_type": "code",
   "execution_count": 9,
   "id": "7e563753-1a51-4310-b8b9-54156b1e0bc0",
   "metadata": {
    "scrolled": true
   },
   "outputs": [
    {
     "data": {
      "text/plain": [
       "((55000, 28, 28), (55000,), (5000, 28, 28), (5000,), (10000, 28, 28), (10000,))"
      ]
     },
     "execution_count": 9,
     "metadata": {},
     "output_type": "execute_result"
    }
   ],
   "source": [
    "X_train.shape, y_train.shape, X_valid.shape, y_valid.shape, X_test.shape, y_test.shape"
   ]
  },
  {
   "cell_type": "markdown",
   "id": "3dfb434c-75a4-4967-ab92-7d2a1d95d47c",
   "metadata": {
    "tags": []
   },
   "source": [
    "3개의 은닉층과 1개의 출력층(즉, 두 개를 적층)을 가진 적층 오토인코더를 만든다."
   ]
  },
  {
   "cell_type": "code",
   "execution_count": 10,
   "id": "658d7c9a-8e87-43f8-a15c-0009388cacdc",
   "metadata": {
    "scrolled": true,
    "tags": []
   },
   "outputs": [],
   "source": [
    "def rounded_accuracy(y_true, y_pred):\n",
    "    return keras.metrics.binary_accuracy(tf.math.round(y_true), tf.math.round(y_pred))"
   ]
  },
  {
   "cell_type": "code",
   "execution_count": 11,
   "id": "9878b0ad-7e51-400a-8797-63d398fd5314",
   "metadata": {
    "scrolled": true,
    "tags": []
   },
   "outputs": [
    {
     "name": "stdout",
     "output_type": "stream",
     "text": [
      "Epoch 1/20\n",
      "1719/1719 [==============================] - 9s 5ms/step - loss: 0.3374 - rounded_accuracy: 0.8880 - val_loss: 0.3191 - val_rounded_accuracy: 0.9100\n",
      "Epoch 2/20\n",
      "1719/1719 [==============================] - 8s 5ms/step - loss: 0.3054 - rounded_accuracy: 0.9151 - val_loss: 0.3024 - val_rounded_accuracy: 0.9182\n",
      "Epoch 3/20\n",
      "1719/1719 [==============================] - 8s 5ms/step - loss: 0.2987 - rounded_accuracy: 0.9211 - val_loss: 0.2967 - val_rounded_accuracy: 0.9241\n",
      "Epoch 4/20\n",
      "1719/1719 [==============================] - 8s 5ms/step - loss: 0.2943 - rounded_accuracy: 0.9253 - val_loss: 0.2945 - val_rounded_accuracy: 0.9243\n",
      "Epoch 5/20\n",
      "1719/1719 [==============================] - 8s 5ms/step - loss: 0.2917 - rounded_accuracy: 0.9275 - val_loss: 0.2929 - val_rounded_accuracy: 0.9255\n",
      "Epoch 6/20\n",
      "1719/1719 [==============================] - 8s 4ms/step - loss: 0.2899 - rounded_accuracy: 0.9291 - val_loss: 0.2902 - val_rounded_accuracy: 0.9303\n",
      "Epoch 7/20\n",
      "1719/1719 [==============================] - 8s 5ms/step - loss: 0.2884 - rounded_accuracy: 0.9304 - val_loss: 0.2892 - val_rounded_accuracy: 0.9319\n",
      "Epoch 8/20\n",
      "1719/1719 [==============================] - 8s 5ms/step - loss: 0.2873 - rounded_accuracy: 0.9314 - val_loss: 0.2880 - val_rounded_accuracy: 0.9327\n",
      "Epoch 9/20\n",
      "1719/1719 [==============================] - 8s 5ms/step - loss: 0.2862 - rounded_accuracy: 0.9324 - val_loss: 0.2869 - val_rounded_accuracy: 0.9337\n",
      "Epoch 10/20\n",
      "1719/1719 [==============================] - 8s 5ms/step - loss: 0.2854 - rounded_accuracy: 0.9330 - val_loss: 0.2870 - val_rounded_accuracy: 0.9345\n",
      "Epoch 11/20\n",
      "1719/1719 [==============================] - 8s 5ms/step - loss: 0.2847 - rounded_accuracy: 0.9337 - val_loss: 0.2884 - val_rounded_accuracy: 0.9276\n",
      "Epoch 12/20\n",
      "1719/1719 [==============================] - 8s 5ms/step - loss: 0.2840 - rounded_accuracy: 0.9341 - val_loss: 0.2851 - val_rounded_accuracy: 0.9342\n",
      "Epoch 13/20\n",
      "1719/1719 [==============================] - 8s 4ms/step - loss: 0.2835 - rounded_accuracy: 0.9347 - val_loss: 0.2847 - val_rounded_accuracy: 0.9352\n",
      "Epoch 14/20\n",
      "1719/1719 [==============================] - 8s 4ms/step - loss: 0.2829 - rounded_accuracy: 0.9351 - val_loss: 0.2845 - val_rounded_accuracy: 0.9366\n",
      "Epoch 15/20\n",
      "1719/1719 [==============================] - 8s 4ms/step - loss: 0.2825 - rounded_accuracy: 0.9355 - val_loss: 0.2835 - val_rounded_accuracy: 0.9365\n",
      "Epoch 16/20\n",
      "1719/1719 [==============================] - 8s 4ms/step - loss: 0.2820 - rounded_accuracy: 0.9359 - val_loss: 0.2834 - val_rounded_accuracy: 0.9354\n",
      "Epoch 17/20\n",
      "1719/1719 [==============================] - 8s 4ms/step - loss: 0.2816 - rounded_accuracy: 0.9363 - val_loss: 0.2831 - val_rounded_accuracy: 0.9375\n",
      "Epoch 18/20\n",
      "1719/1719 [==============================] - 8s 4ms/step - loss: 0.2812 - rounded_accuracy: 0.9367 - val_loss: 0.2823 - val_rounded_accuracy: 0.9381\n",
      "Epoch 19/20\n",
      "1719/1719 [==============================] - 8s 5ms/step - loss: 0.2809 - rounded_accuracy: 0.9368 - val_loss: 0.2824 - val_rounded_accuracy: 0.9369\n",
      "Epoch 20/20\n",
      "1719/1719 [==============================] - 8s 5ms/step - loss: 0.2806 - rounded_accuracy: 0.9372 - val_loss: 0.2832 - val_rounded_accuracy: 0.9368\n"
     ]
    }
   ],
   "source": [
    "stacked_encoder = keras.Sequential([\n",
    "    keras.layers.Flatten(input_shape=[28, 28]),\n",
    "    keras.layers.Dense(100, 'selu'),\n",
    "    keras.layers.Dense(30, 'selu'),\n",
    "])\n",
    "stacked_decoder = keras.Sequential([\n",
    "    keras.layers.Dense(100, 'selu', input_shape=[30]),\n",
    "    keras.layers.Dense(28 * 28, 'sigmoid'),\n",
    "    keras.layers.Reshape([28, 28])\n",
    "])\n",
    "stacked_ae = keras.Sequential([stacked_encoder, stacked_decoder])\n",
    "stacked_ae.compile(keras.optimizers.experimental.SGD(1.5), 'binary_crossentropy', [rounded_accuracy])\n",
    "# history = stacked_ae.fit(X_train, X_train, epochs=20, validation_data=(X_valid, X_valid))\n",
    "history = stacked_ae.fit(X_train, X_train, epochs=6, validation_data=(X_valid, X_valid))"
   ]
  },
  {
   "cell_type": "markdown",
   "id": "751d33bb-e53c-42b7-b05c-d6b915a63231",
   "metadata": {},
   "source": [
    "### 재구성 시각화"
   ]
  },
  {
   "cell_type": "markdown",
   "id": "7f9f6bb5-9620-4167-ae13-d7e24552fb5c",
   "metadata": {
    "tags": []
   },
   "source": [
    "이 함수는 오토인코더를 사용해 몇 개의 테스트 이미지를 처리한다. 그런 다음 원본 이미지와 재구성 이미지를 그린다:"
   ]
  },
  {
   "cell_type": "code",
   "execution_count": 13,
   "id": "8caa0750-f7d3-419d-8a78-f65619563b5a",
   "metadata": {
    "scrolled": true
   },
   "outputs": [],
   "source": [
    "def show_reconstructions(model, images=X_valid, n_images=5):\n",
    "    reconstructions = model.predict(images[:n_images])\n",
    "    plt.figure(figsize=(n_images * 1.5, 3))\n",
    "    for image_index in range(n_images):\n",
    "        plt.subplot(2, n_images, 1 + image_index)\n",
    "        plot_image(images[image_index])\n",
    "        plt.subplot(2, n_images, 1 + n_images + image_index)\n",
    "        plot_image(reconstructions[image_index])"
   ]
  },
  {
   "cell_type": "code",
   "execution_count": 14,
   "id": "310690c2-0fa2-45de-ba2c-26e732c99482",
   "metadata": {
    "scrolled": true,
    "tags": []
   },
   "outputs": [
    {
     "name": "stdout",
     "output_type": "stream",
     "text": [
      "1/1 [==============================] - 0s 69ms/step\n",
      "그림 저장 reconstruction_plot\n"
     ]
    },
    {
     "data": {
      "image/png": "[encoded data removed]",
      "text/plain": [
       "<Figure size 750x300 with 10 Axes>"
      ]
     },
     "metadata": {},
     "output_type": "display_data"
    }
   ],
   "source": [
    "show_reconstructions(stacked_ae)\n",
    "save_fig('reconstruction_plot')"
   ]
  },
  {
   "cell_type": "markdown",
   "id": "f2b52830-8d1a-4d9d-9c94-29743fecb436",
   "metadata": {},
   "source": [
    "### 패션 MNIST 데이터셋 시각화"
   ]
  },
  {
   "cell_type": "code",
   "execution_count": null,
   "id": "76a4e380-0051-4738-aa90-f4cd06d9239f",
   "metadata": {},
   "outputs": [],
   "source": []
  }
 ],
 "metadata": {
  "kernelspec": {
   "display_name": "Python 3 (ipykernel)",
   "language": "python",
   "name": "python3"
  },
  "language_info": {
   "codemirror_mode": {
    "name": "ipython",
    "version": 3
   },
   "file_extension": ".py",
   "mimetype": "text/x-python",
   "name": "python",
   "nbconvert_exporter": "python",
   "pygments_lexer": "ipython3",
   "version": "3.10.8"
  }
 },
 "nbformat": 4,
 "nbformat_minor": 5
}
