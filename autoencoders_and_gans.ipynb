{
 "cells": [
  {
   "cell_type": "markdown",
   "id": "2a5e8e8d-af59-4d8b-8796-a19e24f2bdfc",
   "metadata": {},
   "source": [
    "# **오토인코더와 GAN**"
   ]
  },
  {
   "cell_type": "markdown",
   "id": "3ae628c3-c887-491d-9e98-cad1b009c03b",
   "metadata": {},
   "source": [
    "먼저 몇 개의 모듈을 임포트한다. 맷플롯립 그림을 저장하는 함수를 준비한다."
   ]
  },
  {
   "cell_type": "code",
   "execution_count": 1,
   "id": "1a86a540-5353-47c3-bca5-8849d7497c74",
   "metadata": {},
   "outputs": [],
   "source": [
    "try:\n",
    "    IS_COLAB = True\n",
    "except Exception:\n",
    "    IS_COLAB = False\n",
    "import tensorflow as tf\n",
    "from tensorflow import keras\n",
    "\n",
    "if not tf.config.list_physical_devices('GPU'):\n",
    "    print('감지된 GPU가 없습니다. GPU가 없으면 LSTM과 CNN이 매우 느릴 수 있습니다.')\n",
    "    if IS_COLAB:\n",
    "        print('런타임 > 런타임 유형 변경 메뉴를 선택하고 하드웨어 가속기로 GPU를 고르세요.')\n",
    "# 공통 모듈 임포트\n",
    "import numpy as np\n",
    "import os\n",
    "# 깔끔한 그래프 출력을 위해\n",
    "import matplotlib.pyplot as plt\n",
    "import matplotlib as mpl\n",
    "\n",
    "mpl.rc('axes', labelsize=14)\n",
    "mpl.rc('xtick', labelsize=12)\n",
    "mpl.rc('ytick', labelsize=12)\n",
    "# 그림을 저장할 위치\n",
    "PROJECT_ROOT_DIR = '.'\n",
    "IMAGES_PATH = os.path.join(PROJECT_ROOT_DIR, 'images')\n",
    "os.makedirs(IMAGES_PATH, exist_ok=True)\n",
    "\n",
    "\n",
    "def save_fig(fig_id, tight_layout=True, fig_extension='png', resolution=300):\n",
    "    path = os.path.join(IMAGES_PATH, fig_id + '.' + fig_extension)\n",
    "    print('그림 저장 ' + fig_id)\n",
    "    if tight_layout:\n",
    "        plt.tight_layout()\n",
    "    plt.savefig(path, format=fig_extension, dpi=resolution)"
   ]
  },
  {
   "cell_type": "markdown",
   "id": "aebd7e14-d13d-4244-8ccf-155bf4db8358",
   "metadata": {},
   "source": [
    "28x28 흑백 이미지를 그리기 위한 유틸리티 함수:"
   ]
  },
  {
   "cell_type": "code",
   "execution_count": 2,
   "id": "4b9573d0-10a2-4785-8949-ee37a861119d",
   "metadata": {},
   "outputs": [],
   "source": [
    "def plot_image(image):\n",
    "    plt.imshow(image, 'binary')\n",
    "    plt.axis('off')"
   ]
  },
  {
   "cell_type": "markdown",
   "id": "fc880c02-e71c-49b8-8bcf-878a3559d9fe",
   "metadata": {},
   "source": [
    "## 과소완전 선형 오토인코더로 PCA 수행하기"
   ]
  },
  {
   "cell_type": "markdown",
   "id": "92b14a32-24a6-4e1b-ab67-408f2d6563a2",
   "metadata": {},
   "source": [
    "3D 데이터셋을 만든다:"
   ]
  },
  {
   "cell_type": "code",
   "execution_count": null,
   "id": "2a8e150f-1a0a-4998-8cd0-b6afaa002181",
   "metadata": {},
   "outputs": [],
   "source": []
  }
 ],
 "metadata": {
  "kernelspec": {
   "display_name": "Python 3 (ipykernel)",
   "language": "python",
   "name": "python3"
  },
  "language_info": {
   "codemirror_mode": {
    "name": "ipython",
    "version": 3
   },
   "file_extension": ".py",
   "mimetype": "text/x-python",
   "name": "python",
   "nbconvert_exporter": "python",
   "pygments_lexer": "ipython3",
   "version": "3.10.8"
  }
 },
 "nbformat": 4,
 "nbformat_minor": 5
}
